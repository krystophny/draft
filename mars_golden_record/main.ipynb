{
 "cells": [
  {
   "cell_type": "code",
   "execution_count": 1,
   "metadata": {},
   "outputs": [],
   "source": [
    "import os\n",
    "from pathlib import Path\n",
    "import numpy as np\n",
    "import matplotlib.pyplot as plt\n",
    "from libneo import eqdsk_base"
   ]
  },
  {
   "cell_type": "code",
   "execution_count": null,
   "metadata": {},
   "outputs": [],
   "source": [
    "# get environment variable DATA for Path\n",
    "datapath = Path(os.path.expandvars(\"$DATA\"))\n",
    "equil_create_path = (datapath / \"DEMO/EQDSK/Equilibrium_DEMO2019_CHEASE\" /\n",
    "    \"MOD_Qprof_Test/EQDSK_DEMO2019_q1_COCOS_02.OUT\")\n",
    "\n",
    "\n",
    "equil_ref = eqdsk_base.read_eqdsk(equil_create_path)\n",
    "equil_new = eqdsk_base.read_eqdsk('RUN/CHEASE/EQDSK_COCOS_02.OUT')"
   ]
  },
  {
   "cell_type": "code",
   "execution_count": null,
   "metadata": {},
   "outputs": [],
   "source": [
    "eqdsk_base.plot_poloidal_flux([equil_ref, equil_new], [\"REFERENCE\", \"NEW\"])"
   ]
  },
  {
   "cell_type": "code",
   "execution_count": null,
   "metadata": {},
   "outputs": [],
   "source": [
    "eqdsk_base.plot_fpol([equil_ref, equil_new], [\"REFERENCE\", \"NEW\"])"
   ]
  },
  {
   "cell_type": "code",
   "execution_count": null,
   "metadata": {},
   "outputs": [],
   "source": [
    "plt.figure()\n",
    "\n",
    "plt.plot(equil_ref['s_pol'], equil_ref['qprof'])\n",
    "plt.plot(equil_ref['s_pol'], equil_new['qprof'], \"--\")"
   ]
  }
 ],
 "metadata": {
  "kernelspec": {
   "display_name": ".venv",
   "language": "python",
   "name": "python3"
  },
  "language_info": {
   "codemirror_mode": {
    "name": "ipython",
    "version": 3
   },
   "file_extension": ".py",
   "mimetype": "text/x-python",
   "name": "python",
   "nbconvert_exporter": "python",
   "pygments_lexer": "ipython3",
   "version": "3.11.2"
  }
 },
 "nbformat": 4,
 "nbformat_minor": 2
}
